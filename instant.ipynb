{
 "cells": [
  {
   "cell_type": "code",
   "execution_count": 1,
   "metadata": {},
   "outputs": [
    {
     "name": "stdout",
     "output_type": "stream",
     "text": [
      "기사오류\\json_trans_검수후 014_20231005_원천데이터(기사)_8.5 10-23 pj022 17492.xlsx\n",
      "기사오류\\json_trans_검수후 034_20231005_원천데이터(기사)_9 10-27 pj011 18076.xlsx\n",
      "기사오류\\json_trans_검수후 036_20231005_원천데이터(기사)_9 10-27 pj011 17195.xlsx\n",
      "기사오류\\json_trans_검수후 037_20231005_원천데이터(기사)_9 10-27 pj011 18374.xlsx\n",
      "기사오류\\json_trans_검수후003_20231005_원천데이터(기사)_9 10-24 pj049 18389.xlsx\n",
      "기사오류\\json_trans_검수후009_20231005_원천데이터(기사)_8.5 10-23 pj030 17632.xlsx\n",
      "기사오류\\json_trans_검수후011_20231005_원천데이터(기사)_9 10-25 pj064 18669.xlsx\n",
      "기사오류\\json_trans_검수후012_20231005_원천데이터(기사)_9 10-25 pj065 17997.xlsx\n",
      "기사오류\\json_trans_검수후013_20231005_원천데이터(기사)_8.5 10-23 pj056 17432.xlsx\n",
      "기사오류\\json_trans_검수후015_20231005_원천데이터(기사)_8.5 10-23 pj055 17409.xlsx\n",
      "기사오류\\json_trans_검수후017_20231005_원천데이터(기사)_8.5 10-23 pj062 17501.xlsx\n",
      "기사오류\\json_trans_검수후018_20231005_원천데이터(기사)_8.5 10-23 pj063 18369.xlsx\n",
      "기사오류\\json_trans_검수후033_20231005_원천데이터(기사)_9 10-27 pj029 19161.xlsx\n",
      "기사오류\\json_trans_검수후035_20231005_원천데이터(기사)_9 10-26 pj066 17591.xlsx\n",
      "기사오류\\json_trans_검수후_019019_20231005_원천데이터(기사)_8.5 10-23 pj032 15152.xlsx\n"
     ]
    }
   ],
   "source": [
    "from pathlib import Path\n",
    "\n",
    "for file in Path(\"기사오류\").iterdir():\n",
    "    print(file)"
   ]
  },
  {
   "cell_type": "code",
   "execution_count": 2,
   "metadata": {},
   "outputs": [
    {
     "name": "stdout",
     "output_type": "stream",
     "text": [
      "2020-01-01\n"
     ]
    }
   ],
   "source": [
    "from dateutil.parser import parse\n",
    "print(parse(\"2020-01-01\").strftime(\"%Y-%m-%d\"))"
   ]
  },
  {
   "cell_type": "code",
   "execution_count": 2,
   "metadata": {},
   "outputs": [],
   "source": [
    "\n",
    "test_json_data = [\n",
    "    {\"foo\": \"bar\", \"baz\": \"qux\", \"corge\": \"grault\"},\n",
    "    {\"foo\": \"bar\", \"baz\": \"qux\", \"corge\": \"grault\"},\n",
    "    {\"foo\": \"bar\", \"baz\": \"qux\", \"corge\": \"grault\"},\n",
    "    {\"foo\": \"bar\", \"baz\": \"qux\", \"corge\": \"grault\"},\n",
    "    {\"foo\": \"bar\", \"baz\": \"qux\", \"corge\": \"grault\"}\n",
    "]\n",
    "\n",
    "# json data를 jsonl 데이터로 변환\n",
    "\n",
    "import json\n",
    "\n",
    "with open(\"test.jsonl\", \"w\") as f:\n",
    "    # f.writelines([json.dumps(line) + \"\\n\" for line in test_json_data])\n",
    "    # join 사용하는 방식으로 리팩토링:\n",
    "    f.writelines(\"\\n\".join([json.dumps(line) for line in test_json_data]))"
   ]
  },
  {
   "cell_type": "code",
   "execution_count": 6,
   "metadata": {},
   "outputs": [],
   "source": [
    "import openpyxl\n",
    "from openpyxl.styles import PatternFill\n",
    "from pathlib import Path\n",
    "\n",
    "target_file = Path(\"C:/Users/정진혁/Downloads/학습용 질문 답변셋_최종검수_2 1 (완료).xlsx\")\n",
    "\n",
    "yellow_indexes = [\n",
    "    21, 76, 50, 54, 84, 21, 69, 89, 266, 338, 75, 164, 93, 95, 99, 101, 105, 106, 109, 118, 126, 130, 143, 161, 168, 177, 104, 133, 177, 208, 209, 210, 311, 344, 363, 364, 365, 366, 367, 381, 382, 345, 383\n",
    "]\n",
    "\n",
    "yellow_indexes = sorted(set(yellow_indexes))\n",
    "\n",
    "\n",
    "# 엑셀 파일을 읽고, yellow_indexes에 해당하는 행의 A:F열 색깔을 yellow로 변경한 뒤 \"파일이름_y.xlsx\"로 저장\n",
    "\n",
    "def change_color(target_file:Path, yellow_indexes:list):\n",
    "    wb = openpyxl.load_workbook(target_file)\n",
    "    ws = wb.active\n",
    "\n",
    "    for index in yellow_indexes:\n",
    "        for col in \"ABCDEF\":\n",
    "            ws[f\"{col}{index}\"].fill = PatternFill(patternType=\"solid\", fgColor=\"FFFF00\")\n",
    "\n",
    "    wb.save(target_file.__str__().replace(\".xlsx\", \"_y.xlsx\"))\n",
    "\n",
    "change_color(target_file, yellow_indexes)"
   ]
  },
  {
   "cell_type": "code",
   "execution_count": null,
   "metadata": {},
   "outputs": [],
   "source": [
    "# chess\n",
    "\n",
    "ipt:str = input()\n",
    "\n",
    "# 입력은 \"0 1 2 2 2 7\" 과 같은 식이다.\n",
    "# 이 입력은 차례로 킹, 퀸, 룩, 비숍, 나이트, 폰의 개수를 의미한다.\n",
    "# 원래 킹은 1개, 퀸은 1개, 룩은 2개, 비숍은 2개, 나이트는 2개, 폰은 8개이다.\n",
    "# 이 숫자에서 입력 받은 숫자를 빼면, 각 말의 개수가 부족한 만큼 추가로 필요한 말의 개수를 알 수 있다.\n",
    "\n",
    "exact_pieces = [1, 1, 2, 2, 2, 8]\n",
    "found_pieces = ipt.split()\n",
    "\n",
    "for i in range(len(exact_pieces)):\n",
    "    exact_pieces[i] -= int(found_pieces[i])\n",
    "\n",
    "print(\" \".join([str(i) for i in exact_pieces]))"
   ]
  },
  {
   "cell_type": "code",
   "execution_count": null,
   "metadata": {},
   "outputs": [],
   "source": [
    "# press stars\n",
    "\n",
    "n:str = int(input())\n",
    "\n",
    "# 입력은 숫자 하나로 이루어진 문자열이다.\n",
    "# 첫째 줄부터 2*(N-1)번째 줄까지 차례대로 별을 출력한다.\n",
    "# 별의 개수는 1, 3, 5, ..., 2*(N-1)-1, 2*(N-1), 2*(N-1)-1, ..., 5, 3, 1개씩 증가하거나 감소한다.\n",
    "# 별을 출력할 때는 가운데를 기준으로 대칭이어야 한다.\n",
    "LINES = 2*(n-1)\n",
    "STARS = [2*i+1 for i in range(n-1)] + [2*i+1 for i in range(n-1, -1, -1)]\n",
    "for idx, star in enumerate(STARS):\n",
    "    # 공백 개수의 최대값은 n-1개이다.\n",
    "    # 별 개수의 최대값은 2*(n-1)-1개이다.\n",
    "\n",
    "    # 별 개수가 1개 이상이면, 공백 개수는 n-1개에서 별 개수를 뺀 값이다.\n",
    "\n",
    "    print(\" \"*(n-1-star//2) + \"*\" * star)"
   ]
  },
  {
   "cell_type": "code",
   "execution_count": 1,
   "metadata": {},
   "outputs": [
    {
     "data": {
      "text/plain": [
       "'0001'"
      ]
     },
     "execution_count": 1,
     "metadata": {},
     "output_type": "execute_result"
    }
   ],
   "source": [
    "\"001\".zfill(4)"
   ]
  },
  {
   "cell_type": "code",
   "execution_count": null,
   "metadata": {},
   "outputs": [],
   "source": [
    "from tool import handler1221\n",
    "\n",
    "handler1221.main(\n",
    "    \"article, twitter, ... 파일들 모두 들어있는 폴더의 절대 경로\",\n",
    "    \"작업된 파일들을 저장할 폴더의 절대 경로\",\n",
    "    r\"작업에서 제외할 파일명 혹은 폴더명 이름의 정규식 패턴\"\n",
    ")"
   ]
  },
  {
   "cell_type": "code",
   "execution_count": 1,
   "metadata": {},
   "outputs": [
    {
     "data": {
      "text/plain": [
       "(Entity(major='LC', minor='Country', ending='B'), True, True, True, True)"
      ]
     },
     "execution_count": 1,
     "metadata": {},
     "output_type": "execute_result"
    }
   ],
   "source": [
    "from tool.JSONformat_handler import Entity, MAJOR_SET, MINOR_SET, ENDING_SET\n",
    "entity = Entity(*\"LC-Country-B\".split(\"-\"))\n",
    "entity, entity.major in MAJOR_SET, entity.minor in MINOR_SET, entity.ending in ENDING_SET, entity.is_valid()"
   ]
  }
 ],
 "metadata": {
  "kernelspec": {
   "display_name": "Python 3",
   "language": "python",
   "name": "python3"
  },
  "language_info": {
   "codemirror_mode": {
    "name": "ipython",
    "version": 3
   },
   "file_extension": ".py",
   "mimetype": "text/x-python",
   "name": "python",
   "nbconvert_exporter": "python",
   "pygments_lexer": "ipython3",
   "version": "3.11.6"
  }
 },
 "nbformat": 4,
 "nbformat_minor": 2
}
