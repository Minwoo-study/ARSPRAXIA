{
 "cells": [
  {
   "cell_type": "code",
   "execution_count": 1,
   "metadata": {},
   "outputs": [
    {
     "name": "stdout",
     "output_type": "stream",
     "text": [
      "기사오류\\json_trans_검수후 014_20231005_원천데이터(기사)_8.5 10-23 pj022 17492.xlsx\n",
      "기사오류\\json_trans_검수후 034_20231005_원천데이터(기사)_9 10-27 pj011 18076.xlsx\n",
      "기사오류\\json_trans_검수후 036_20231005_원천데이터(기사)_9 10-27 pj011 17195.xlsx\n",
      "기사오류\\json_trans_검수후 037_20231005_원천데이터(기사)_9 10-27 pj011 18374.xlsx\n",
      "기사오류\\json_trans_검수후003_20231005_원천데이터(기사)_9 10-24 pj049 18389.xlsx\n",
      "기사오류\\json_trans_검수후009_20231005_원천데이터(기사)_8.5 10-23 pj030 17632.xlsx\n",
      "기사오류\\json_trans_검수후011_20231005_원천데이터(기사)_9 10-25 pj064 18669.xlsx\n",
      "기사오류\\json_trans_검수후012_20231005_원천데이터(기사)_9 10-25 pj065 17997.xlsx\n",
      "기사오류\\json_trans_검수후013_20231005_원천데이터(기사)_8.5 10-23 pj056 17432.xlsx\n",
      "기사오류\\json_trans_검수후015_20231005_원천데이터(기사)_8.5 10-23 pj055 17409.xlsx\n",
      "기사오류\\json_trans_검수후017_20231005_원천데이터(기사)_8.5 10-23 pj062 17501.xlsx\n",
      "기사오류\\json_trans_검수후018_20231005_원천데이터(기사)_8.5 10-23 pj063 18369.xlsx\n",
      "기사오류\\json_trans_검수후033_20231005_원천데이터(기사)_9 10-27 pj029 19161.xlsx\n",
      "기사오류\\json_trans_검수후035_20231005_원천데이터(기사)_9 10-26 pj066 17591.xlsx\n",
      "기사오류\\json_trans_검수후_019019_20231005_원천데이터(기사)_8.5 10-23 pj032 15152.xlsx\n"
     ]
    }
   ],
   "source": [
    "from pathlib import Path\n",
    "\n",
    "for file in Path(\"기사오류\").iterdir():\n",
    "    print(file)"
   ]
  },
  {
   "cell_type": "code",
   "execution_count": 2,
   "metadata": {},
   "outputs": [
    {
     "name": "stdout",
     "output_type": "stream",
     "text": [
      "2020-01-01\n"
     ]
    }
   ],
   "source": [
    "from dateutil.parser import parse\n",
    "print(parse(\"2020-01-01\").strftime(\"%Y-%m-%d\"))"
   ]
  },
  {
   "cell_type": "code",
   "execution_count": 1,
   "metadata": {},
   "outputs": [
    {
     "name": "stdout",
     "output_type": "stream",
     "text": [
      "2023-12-13 17:11:27.533578 (0:00:00 passed)\tConsoleLogger initialized\n",
      "2023-12-13 17:11:32.542817 (0:00:05 passed)\ttest\n"
     ]
    }
   ],
   "source": [
    "from tool.common import ConsoleLogger\n",
    "from time import sleep\n",
    "\n",
    "consolelogger = ConsoleLogger()\n",
    "\n",
    "sleep(5)\n",
    "\n",
    "consolelogger.print(\"test\")"
   ]
  }
 ],
 "metadata": {
  "kernelspec": {
   "display_name": "Python 3",
   "language": "python",
   "name": "python3"
  },
  "language_info": {
   "codemirror_mode": {
    "name": "ipython",
    "version": 3
   },
   "file_extension": ".py",
   "mimetype": "text/x-python",
   "name": "python",
   "nbconvert_exporter": "python",
   "pygments_lexer": "ipython3",
   "version": "3.11.6"
  }
 },
 "nbformat": 4,
 "nbformat_minor": 2
}
